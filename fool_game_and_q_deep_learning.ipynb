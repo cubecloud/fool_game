{
 "cells": [
  {
   "cell_type": "markdown",
   "metadata": {
    "colab_type": "text",
    "id": "view-in-github"
   },
   "source": [
    "<a href=\"https://colab.research.google.com/github/cubecloud/fool_game/blob/feature-02-np-exp/fool_game_and_q_deep_learning.ipynb\" target=\"_parent\"><img src=\"https://colab.research.google.com/assets/colab-badge.svg\" alt=\"Open In Colab\"/></a>"
   ]
  },
  {
   "cell_type": "markdown",
   "metadata": {
    "id": "LkKWFvKdjz81"
   },
   "source": [
    "### New Import"
   ]
  },
  {
   "cell_type": "code",
   "execution_count": 1,
   "metadata": {
    "colab": {
     "base_uri": "https://localhost:8080/"
    },
    "id": "yrsJc8Gx6nvo",
    "outputId": "2d2e7775-527c-45e3-a00d-7113534ab4de"
   },
   "outputs": [
    {
     "name": "stdout",
     "output_type": "stream",
     "text": [
      "Collecting git+https://github.com/cubecloud/fool_game.git@feature-02-np-exp\n",
      "  Cloning https://github.com/cubecloud/fool_game.git (to revision feature-02-np-exp) to /tmp/pip-req-build-izq9mfta\n",
      "  Running command git clone -q https://github.com/cubecloud/fool_game.git /tmp/pip-req-build-izq9mfta\n",
      "  Running command git checkout -b feature-02-np-exp --track origin/feature-02-np-exp\n",
      "  Switched to a new branch 'feature-02-np-exp'\n",
      "  Branch 'feature-02-np-exp' set up to track remote branch 'feature-02-np-exp' from 'origin'.\n",
      "Requirement already satisfied (use --upgrade to upgrade): fool-game==0.0.85 from git+https://github.com/cubecloud/fool_game.git@feature-02-np-exp in /usr/local/lib/python3.7/dist-packages\n",
      "Requirement already satisfied: setuptools>=51.0.0 in /usr/local/lib/python3.7/dist-packages (from fool-game==0.0.85) (56.0.0)\n",
      "Requirement already satisfied: tensorflow==2.3.0 in /usr/local/lib/python3.7/dist-packages (from fool-game==0.0.85) (2.3.0)\n",
      "Requirement already satisfied: numpy==1.18.5 in /usr/local/lib/python3.7/dist-packages (from fool-game==0.0.85) (1.18.5)\n",
      "Requirement already satisfied: pytz>=2018.9 in /usr/local/lib/python3.7/dist-packages (from fool-game==0.0.85) (2018.9)\n",
      "Requirement already satisfied: matplotlib>=3.0.2 in /usr/local/lib/python3.7/dist-packages (from fool-game==0.0.85) (3.2.2)\n",
      "Requirement already satisfied: seaborn>=0.11.1 in /usr/local/lib/python3.7/dist-packages (from fool-game==0.0.85) (0.11.1)\n",
      "Requirement already satisfied: dataclasses>=0.6 in /usr/local/lib/python3.7/dist-packages (from fool-game==0.0.85) (0.6)\n",
      "Requirement already satisfied: pandas>=1.1.5 in /usr/local/lib/python3.7/dist-packages (from fool-game==0.0.85) (1.1.5)\n",
      "Requirement already satisfied: wheel>=0.26 in /usr/local/lib/python3.7/dist-packages (from tensorflow==2.3.0->fool-game==0.0.85) (0.36.2)\n",
      "Requirement already satisfied: scipy==1.4.1 in /usr/local/lib/python3.7/dist-packages (from tensorflow==2.3.0->fool-game==0.0.85) (1.4.1)\n",
      "Requirement already satisfied: opt-einsum>=2.3.2 in /usr/local/lib/python3.7/dist-packages (from tensorflow==2.3.0->fool-game==0.0.85) (3.3.0)\n",
      "Requirement already satisfied: grpcio>=1.8.6 in /usr/local/lib/python3.7/dist-packages (from tensorflow==2.3.0->fool-game==0.0.85) (1.32.0)\n",
      "Requirement already satisfied: absl-py>=0.7.0 in /usr/local/lib/python3.7/dist-packages (from tensorflow==2.3.0->fool-game==0.0.85) (0.12.0)\n",
      "Requirement already satisfied: gast==0.3.3 in /usr/local/lib/python3.7/dist-packages (from tensorflow==2.3.0->fool-game==0.0.85) (0.3.3)\n",
      "Requirement already satisfied: astunparse==1.6.3 in /usr/local/lib/python3.7/dist-packages (from tensorflow==2.3.0->fool-game==0.0.85) (1.6.3)\n",
      "Requirement already satisfied: google-pasta>=0.1.8 in /usr/local/lib/python3.7/dist-packages (from tensorflow==2.3.0->fool-game==0.0.85) (0.2.0)\n",
      "Requirement already satisfied: protobuf>=3.9.2 in /usr/local/lib/python3.7/dist-packages (from tensorflow==2.3.0->fool-game==0.0.85) (3.12.4)\n",
      "Requirement already satisfied: tensorboard<3,>=2.3.0 in /usr/local/lib/python3.7/dist-packages (from tensorflow==2.3.0->fool-game==0.0.85) (2.4.1)\n",
      "Requirement already satisfied: termcolor>=1.1.0 in /usr/local/lib/python3.7/dist-packages (from tensorflow==2.3.0->fool-game==0.0.85) (1.1.0)\n",
      "Requirement already satisfied: six>=1.12.0 in /usr/local/lib/python3.7/dist-packages (from tensorflow==2.3.0->fool-game==0.0.85) (1.15.0)\n",
      "Requirement already satisfied: keras-preprocessing<1.2,>=1.1.1 in /usr/local/lib/python3.7/dist-packages (from tensorflow==2.3.0->fool-game==0.0.85) (1.1.2)\n",
      "Requirement already satisfied: h5py<2.11.0,>=2.10.0 in /usr/local/lib/python3.7/dist-packages (from tensorflow==2.3.0->fool-game==0.0.85) (2.10.0)\n",
      "Requirement already satisfied: wrapt>=1.11.1 in /usr/local/lib/python3.7/dist-packages (from tensorflow==2.3.0->fool-game==0.0.85) (1.12.1)\n",
      "Requirement already satisfied: tensorflow-estimator<2.4.0,>=2.3.0 in /usr/local/lib/python3.7/dist-packages (from tensorflow==2.3.0->fool-game==0.0.85) (2.3.0)\n",
      "Requirement already satisfied: python-dateutil>=2.1 in /usr/local/lib/python3.7/dist-packages (from matplotlib>=3.0.2->fool-game==0.0.85) (2.8.1)\n",
      "Requirement already satisfied: kiwisolver>=1.0.1 in /usr/local/lib/python3.7/dist-packages (from matplotlib>=3.0.2->fool-game==0.0.85) (1.3.1)\n",
      "Requirement already satisfied: pyparsing!=2.0.4,!=2.1.2,!=2.1.6,>=2.0.1 in /usr/local/lib/python3.7/dist-packages (from matplotlib>=3.0.2->fool-game==0.0.85) (2.4.7)\n",
      "Requirement already satisfied: cycler>=0.10 in /usr/local/lib/python3.7/dist-packages (from matplotlib>=3.0.2->fool-game==0.0.85) (0.10.0)\n",
      "Requirement already satisfied: werkzeug>=0.11.15 in /usr/local/lib/python3.7/dist-packages (from tensorboard<3,>=2.3.0->tensorflow==2.3.0->fool-game==0.0.85) (1.0.1)\n",
      "Requirement already satisfied: google-auth-oauthlib<0.5,>=0.4.1 in /usr/local/lib/python3.7/dist-packages (from tensorboard<3,>=2.3.0->tensorflow==2.3.0->fool-game==0.0.85) (0.4.4)\n",
      "Requirement already satisfied: tensorboard-plugin-wit>=1.6.0 in /usr/local/lib/python3.7/dist-packages (from tensorboard<3,>=2.3.0->tensorflow==2.3.0->fool-game==0.0.85) (1.8.0)\n",
      "Requirement already satisfied: requests<3,>=2.21.0 in /usr/local/lib/python3.7/dist-packages (from tensorboard<3,>=2.3.0->tensorflow==2.3.0->fool-game==0.0.85) (2.23.0)\n",
      "Requirement already satisfied: google-auth<2,>=1.6.3 in /usr/local/lib/python3.7/dist-packages (from tensorboard<3,>=2.3.0->tensorflow==2.3.0->fool-game==0.0.85) (1.28.1)\n",
      "Requirement already satisfied: markdown>=2.6.8 in /usr/local/lib/python3.7/dist-packages (from tensorboard<3,>=2.3.0->tensorflow==2.3.0->fool-game==0.0.85) (3.3.4)\n",
      "Requirement already satisfied: requests-oauthlib>=0.7.0 in /usr/local/lib/python3.7/dist-packages (from google-auth-oauthlib<0.5,>=0.4.1->tensorboard<3,>=2.3.0->tensorflow==2.3.0->fool-game==0.0.85) (1.3.0)\n",
      "Requirement already satisfied: certifi>=2017.4.17 in /usr/local/lib/python3.7/dist-packages (from requests<3,>=2.21.0->tensorboard<3,>=2.3.0->tensorflow==2.3.0->fool-game==0.0.85) (2020.12.5)\n",
      "Requirement already satisfied: idna<3,>=2.5 in /usr/local/lib/python3.7/dist-packages (from requests<3,>=2.21.0->tensorboard<3,>=2.3.0->tensorflow==2.3.0->fool-game==0.0.85) (2.10)\n",
      "Requirement already satisfied: chardet<4,>=3.0.2 in /usr/local/lib/python3.7/dist-packages (from requests<3,>=2.21.0->tensorboard<3,>=2.3.0->tensorflow==2.3.0->fool-game==0.0.85) (3.0.4)\n",
      "Requirement already satisfied: urllib3!=1.25.0,!=1.25.1,<1.26,>=1.21.1 in /usr/local/lib/python3.7/dist-packages (from requests<3,>=2.21.0->tensorboard<3,>=2.3.0->tensorflow==2.3.0->fool-game==0.0.85) (1.24.3)\n",
      "Requirement already satisfied: rsa<5,>=3.1.4; python_version >= \"3.6\" in /usr/local/lib/python3.7/dist-packages (from google-auth<2,>=1.6.3->tensorboard<3,>=2.3.0->tensorflow==2.3.0->fool-game==0.0.85) (4.7.2)\n",
      "Requirement already satisfied: pyasn1-modules>=0.2.1 in /usr/local/lib/python3.7/dist-packages (from google-auth<2,>=1.6.3->tensorboard<3,>=2.3.0->tensorflow==2.3.0->fool-game==0.0.85) (0.2.8)\n",
      "Requirement already satisfied: cachetools<5.0,>=2.0.0 in /usr/local/lib/python3.7/dist-packages (from google-auth<2,>=1.6.3->tensorboard<3,>=2.3.0->tensorflow==2.3.0->fool-game==0.0.85) (4.2.1)\n",
      "Requirement already satisfied: importlib-metadata; python_version < \"3.8\" in /usr/local/lib/python3.7/dist-packages (from markdown>=2.6.8->tensorboard<3,>=2.3.0->tensorflow==2.3.0->fool-game==0.0.85) (3.10.1)\n",
      "Requirement already satisfied: oauthlib>=3.0.0 in /usr/local/lib/python3.7/dist-packages (from requests-oauthlib>=0.7.0->google-auth-oauthlib<0.5,>=0.4.1->tensorboard<3,>=2.3.0->tensorflow==2.3.0->fool-game==0.0.85) (3.1.0)\n",
      "Requirement already satisfied: pyasn1>=0.1.3 in /usr/local/lib/python3.7/dist-packages (from rsa<5,>=3.1.4; python_version >= \"3.6\"->google-auth<2,>=1.6.3->tensorboard<3,>=2.3.0->tensorflow==2.3.0->fool-game==0.0.85) (0.4.8)\n",
      "Requirement already satisfied: zipp>=0.5 in /usr/local/lib/python3.7/dist-packages (from importlib-metadata; python_version < \"3.8\"->markdown>=2.6.8->tensorboard<3,>=2.3.0->tensorflow==2.3.0->fool-game==0.0.85) (3.4.1)\n",
      "Requirement already satisfied: typing-extensions>=3.6.4; python_version < \"3.8\" in /usr/local/lib/python3.7/dist-packages (from importlib-metadata; python_version < \"3.8\"->markdown>=2.6.8->tensorboard<3,>=2.3.0->tensorflow==2.3.0->fool-game==0.0.85) (3.7.4.3)\n",
      "Building wheels for collected packages: fool-game\n",
      "  Building wheel for fool-game (setup.py) ... \u001b[?25l\u001b[?25hdone\n",
      "  Created wheel for fool-game: filename=fool_game-0.0.85-cp37-none-any.whl size=22619 sha256=4642344b08c511a8935be3a48c778cfcd383dd2aeb69b09d1d92c03263df618c\n",
      "  Stored in directory: /tmp/pip-ephem-wheel-cache-d_ohasdt/wheels/8f/3d/c8/ca35378aa7396c2a96c1c7ff84439121e8a8de5ab1c26111f5\n",
      "Successfully built fool-game\n"
     ]
    }
   ],
   "source": [
    "!pip install git+https://github.com/cubecloud/fool_game.git@feature-02-np-exp\n",
    "# !git clone --branch='feature-02-np-exp'  https://github.com/cubecloud/fool_game.git\n",
    "# !pip install /content/fool_game/"
   ]
  },
  {
   "cell_type": "code",
   "execution_count": 2,
   "metadata": {
    "colab": {
     "base_uri": "https://localhost:8080/"
    },
    "id": "9anbDy89BjSu",
    "outputId": "519cfc22-b3f4-40b4-e481-16210c022818"
   },
   "outputs": [
    {
     "name": "stdout",
     "output_type": "stream",
     "text": [
      "Cloning into 'fool_game'...\n",
      "remote: Enumerating objects: 209, done.\u001b[K\n",
      "remote: Counting objects: 100% (209/209), done.\u001b[K\n",
      "remote: Compressing objects: 100% (147/147), done.\u001b[K\n",
      "remote: Total 209 (delta 104), reused 153 (delta 54), pack-reused 0\u001b[K\n",
      "Receiving objects: 100% (209/209), 1.65 MiB | 11.57 MiB/s, done.\n",
      "Resolving deltas: 100% (104/104), done.\n",
      "Processing ./fool_game\n",
      "Requirement already satisfied: setuptools>=51.0.0 in /usr/local/lib/python3.7/dist-packages (from fool-game==0.0.84) (56.0.0)\n",
      "Requirement already satisfied: tensorflow==2.3.0 in /usr/local/lib/python3.7/dist-packages (from fool-game==0.0.84) (2.3.0)\n",
      "Requirement already satisfied: numpy==1.18.5 in /usr/local/lib/python3.7/dist-packages (from fool-game==0.0.84) (1.18.5)\n",
      "Requirement already satisfied: pytz>=2018.9 in /usr/local/lib/python3.7/dist-packages (from fool-game==0.0.84) (2018.9)\n",
      "Requirement already satisfied: matplotlib>=3.0.2 in /usr/local/lib/python3.7/dist-packages (from fool-game==0.0.84) (3.2.2)\n",
      "Requirement already satisfied: seaborn>=0.11.1 in /usr/local/lib/python3.7/dist-packages (from fool-game==0.0.84) (0.11.1)\n",
      "Requirement already satisfied: dataclasses>=0.6 in /usr/local/lib/python3.7/dist-packages (from fool-game==0.0.84) (0.6)\n",
      "Requirement already satisfied: pandas>=1.1.5 in /usr/local/lib/python3.7/dist-packages (from fool-game==0.0.84) (1.1.5)\n",
      "Requirement already satisfied: google-pasta>=0.1.8 in /usr/local/lib/python3.7/dist-packages (from tensorflow==2.3.0->fool-game==0.0.84) (0.2.0)\n",
      "Requirement already satisfied: absl-py>=0.7.0 in /usr/local/lib/python3.7/dist-packages (from tensorflow==2.3.0->fool-game==0.0.84) (0.12.0)\n",
      "Requirement already satisfied: protobuf>=3.9.2 in /usr/local/lib/python3.7/dist-packages (from tensorflow==2.3.0->fool-game==0.0.84) (3.12.4)\n",
      "Requirement already satisfied: termcolor>=1.1.0 in /usr/local/lib/python3.7/dist-packages (from tensorflow==2.3.0->fool-game==0.0.84) (1.1.0)\n",
      "Requirement already satisfied: wheel>=0.26 in /usr/local/lib/python3.7/dist-packages (from tensorflow==2.3.0->fool-game==0.0.84) (0.36.2)\n",
      "Requirement already satisfied: grpcio>=1.8.6 in /usr/local/lib/python3.7/dist-packages (from tensorflow==2.3.0->fool-game==0.0.84) (1.32.0)\n",
      "Requirement already satisfied: opt-einsum>=2.3.2 in /usr/local/lib/python3.7/dist-packages (from tensorflow==2.3.0->fool-game==0.0.84) (3.3.0)\n",
      "Requirement already satisfied: scipy==1.4.1 in /usr/local/lib/python3.7/dist-packages (from tensorflow==2.3.0->fool-game==0.0.84) (1.4.1)\n",
      "Requirement already satisfied: gast==0.3.3 in /usr/local/lib/python3.7/dist-packages (from tensorflow==2.3.0->fool-game==0.0.84) (0.3.3)\n",
      "Requirement already satisfied: tensorboard<3,>=2.3.0 in /usr/local/lib/python3.7/dist-packages (from tensorflow==2.3.0->fool-game==0.0.84) (2.4.1)\n",
      "Requirement already satisfied: h5py<2.11.0,>=2.10.0 in /usr/local/lib/python3.7/dist-packages (from tensorflow==2.3.0->fool-game==0.0.84) (2.10.0)\n",
      "Requirement already satisfied: keras-preprocessing<1.2,>=1.1.1 in /usr/local/lib/python3.7/dist-packages (from tensorflow==2.3.0->fool-game==0.0.84) (1.1.2)\n",
      "Requirement already satisfied: astunparse==1.6.3 in /usr/local/lib/python3.7/dist-packages (from tensorflow==2.3.0->fool-game==0.0.84) (1.6.3)\n",
      "Requirement already satisfied: tensorflow-estimator<2.4.0,>=2.3.0 in /usr/local/lib/python3.7/dist-packages (from tensorflow==2.3.0->fool-game==0.0.84) (2.3.0)\n",
      "Requirement already satisfied: wrapt>=1.11.1 in /usr/local/lib/python3.7/dist-packages (from tensorflow==2.3.0->fool-game==0.0.84) (1.12.1)\n",
      "Requirement already satisfied: six>=1.12.0 in /usr/local/lib/python3.7/dist-packages (from tensorflow==2.3.0->fool-game==0.0.84) (1.15.0)\n",
      "Requirement already satisfied: kiwisolver>=1.0.1 in /usr/local/lib/python3.7/dist-packages (from matplotlib>=3.0.2->fool-game==0.0.84) (1.3.1)\n",
      "Requirement already satisfied: python-dateutil>=2.1 in /usr/local/lib/python3.7/dist-packages (from matplotlib>=3.0.2->fool-game==0.0.84) (2.8.1)\n",
      "Requirement already satisfied: cycler>=0.10 in /usr/local/lib/python3.7/dist-packages (from matplotlib>=3.0.2->fool-game==0.0.84) (0.10.0)\n",
      "Requirement already satisfied: pyparsing!=2.0.4,!=2.1.2,!=2.1.6,>=2.0.1 in /usr/local/lib/python3.7/dist-packages (from matplotlib>=3.0.2->fool-game==0.0.84) (2.4.7)\n",
      "Requirement already satisfied: markdown>=2.6.8 in /usr/local/lib/python3.7/dist-packages (from tensorboard<3,>=2.3.0->tensorflow==2.3.0->fool-game==0.0.84) (3.3.4)\n",
      "Requirement already satisfied: requests<3,>=2.21.0 in /usr/local/lib/python3.7/dist-packages (from tensorboard<3,>=2.3.0->tensorflow==2.3.0->fool-game==0.0.84) (2.23.0)\n",
      "Requirement already satisfied: google-auth-oauthlib<0.5,>=0.4.1 in /usr/local/lib/python3.7/dist-packages (from tensorboard<3,>=2.3.0->tensorflow==2.3.0->fool-game==0.0.84) (0.4.4)\n",
      "Requirement already satisfied: google-auth<2,>=1.6.3 in /usr/local/lib/python3.7/dist-packages (from tensorboard<3,>=2.3.0->tensorflow==2.3.0->fool-game==0.0.84) (1.28.1)\n",
      "Requirement already satisfied: tensorboard-plugin-wit>=1.6.0 in /usr/local/lib/python3.7/dist-packages (from tensorboard<3,>=2.3.0->tensorflow==2.3.0->fool-game==0.0.84) (1.8.0)\n",
      "Requirement already satisfied: werkzeug>=0.11.15 in /usr/local/lib/python3.7/dist-packages (from tensorboard<3,>=2.3.0->tensorflow==2.3.0->fool-game==0.0.84) (1.0.1)\n",
      "Requirement already satisfied: importlib-metadata; python_version < \"3.8\" in /usr/local/lib/python3.7/dist-packages (from markdown>=2.6.8->tensorboard<3,>=2.3.0->tensorflow==2.3.0->fool-game==0.0.84) (3.10.1)\n",
      "Requirement already satisfied: chardet<4,>=3.0.2 in /usr/local/lib/python3.7/dist-packages (from requests<3,>=2.21.0->tensorboard<3,>=2.3.0->tensorflow==2.3.0->fool-game==0.0.84) (3.0.4)\n",
      "Requirement already satisfied: idna<3,>=2.5 in /usr/local/lib/python3.7/dist-packages (from requests<3,>=2.21.0->tensorboard<3,>=2.3.0->tensorflow==2.3.0->fool-game==0.0.84) (2.10)\n",
      "Requirement already satisfied: urllib3!=1.25.0,!=1.25.1,<1.26,>=1.21.1 in /usr/local/lib/python3.7/dist-packages (from requests<3,>=2.21.0->tensorboard<3,>=2.3.0->tensorflow==2.3.0->fool-game==0.0.84) (1.24.3)\n",
      "Requirement already satisfied: certifi>=2017.4.17 in /usr/local/lib/python3.7/dist-packages (from requests<3,>=2.21.0->tensorboard<3,>=2.3.0->tensorflow==2.3.0->fool-game==0.0.84) (2020.12.5)\n",
      "Requirement already satisfied: requests-oauthlib>=0.7.0 in /usr/local/lib/python3.7/dist-packages (from google-auth-oauthlib<0.5,>=0.4.1->tensorboard<3,>=2.3.0->tensorflow==2.3.0->fool-game==0.0.84) (1.3.0)\n",
      "Requirement already satisfied: rsa<5,>=3.1.4; python_version >= \"3.6\" in /usr/local/lib/python3.7/dist-packages (from google-auth<2,>=1.6.3->tensorboard<3,>=2.3.0->tensorflow==2.3.0->fool-game==0.0.84) (4.7.2)\n",
      "Requirement already satisfied: cachetools<5.0,>=2.0.0 in /usr/local/lib/python3.7/dist-packages (from google-auth<2,>=1.6.3->tensorboard<3,>=2.3.0->tensorflow==2.3.0->fool-game==0.0.84) (4.2.1)\n",
      "Requirement already satisfied: pyasn1-modules>=0.2.1 in /usr/local/lib/python3.7/dist-packages (from google-auth<2,>=1.6.3->tensorboard<3,>=2.3.0->tensorflow==2.3.0->fool-game==0.0.84) (0.2.8)\n",
      "Requirement already satisfied: zipp>=0.5 in /usr/local/lib/python3.7/dist-packages (from importlib-metadata; python_version < \"3.8\"->markdown>=2.6.8->tensorboard<3,>=2.3.0->tensorflow==2.3.0->fool-game==0.0.84) (3.4.1)\n",
      "Requirement already satisfied: typing-extensions>=3.6.4; python_version < \"3.8\" in /usr/local/lib/python3.7/dist-packages (from importlib-metadata; python_version < \"3.8\"->markdown>=2.6.8->tensorboard<3,>=2.3.0->tensorflow==2.3.0->fool-game==0.0.84) (3.7.4.3)\n",
      "Requirement already satisfied: oauthlib>=3.0.0 in /usr/local/lib/python3.7/dist-packages (from requests-oauthlib>=0.7.0->google-auth-oauthlib<0.5,>=0.4.1->tensorboard<3,>=2.3.0->tensorflow==2.3.0->fool-game==0.0.84) (3.1.0)\n",
      "Requirement already satisfied: pyasn1>=0.1.3 in /usr/local/lib/python3.7/dist-packages (from rsa<5,>=3.1.4; python_version >= \"3.6\"->google-auth<2,>=1.6.3->tensorboard<3,>=2.3.0->tensorflow==2.3.0->fool-game==0.0.84) (0.4.8)\n",
      "Building wheels for collected packages: fool-game\n",
      "  Building wheel for fool-game (setup.py) ... \u001b[?25l\u001b[?25hdone\n",
      "  Created wheel for fool-game: filename=fool_game-0.0.84-cp37-none-any.whl size=22624 sha256=42d76a76d469f94dc4869d660c25d3e5437890ce3be087e2d2ac0c3074bdd8aa\n",
      "  Stored in directory: /tmp/pip-ephem-wheel-cache-saynbg74/wheels/67/53/a2/3a86003955a41517f75b430127d417ceb92098d8ca7c61f5f2\n",
      "Successfully built fool-game\n",
      "Installing collected packages: fool-game\n",
      "  Found existing installation: fool-game 0.0.84\n",
      "    Uninstalling fool-game-0.0.84:\n",
      "      Successfully uninstalled fool-game-0.0.84\n",
      "Successfully installed fool-game-0.0.84\n"
     ]
    }
   ],
   "source": [
    "!git clone --branch='feature-02-np-exp'  https://github.com/cubecloud/fool_game.git\n",
    "!pip install /content/fool_game/"
   ]
  },
  {
   "cell_type": "code",
   "execution_count": 19,
   "metadata": {
    "id": "acpTAjrvSGZs",
    "outputId": "4ef57ee2-5943-439f-b39c-3e0e589162ad"
   },
   "outputs": [
    {
     "name": "stdout",
     "output_type": "stream",
     "text": [
      "Running on Jupyter Notebook\n",
      "Adding sys path: /home/cubecloud/GDrive/Python/fool_game/\n",
      "Checking key environment depenndecies\n",
      "Python 3.7.7\n",
      "TensorFlow 2.3.0\n",
      "Keras 2.4.0\n"
     ]
    }
   ],
   "source": [
    "# adding terra_ai location for using googlesync \n",
    "# for development on local drive and testing \n",
    "# in google colab or jupyter notebook \n",
    "# change this variables to your locations for development\n",
    "local_drive = '/home/cubecloud/GDrive'\n",
    "remote_drive = '/content'\n",
    "local_dev = '/Python/fool_game/'\n",
    "remote_dev = '/terra_ai'\n",
    "__demo_version__ = 0.04\n",
    "import sys\n",
    "if 'google.colab' in str(get_ipython()):\n",
    "    print('Running on CoLab')\n",
    "#     from google.colab import drive\n",
    "#     drive.mount('/content/drive')\n",
    "    DEV = f'{remote_drive}{remote_dev}'\n",
    "    DRIVE = remote_drive\n",
    "elif 'ipykernel' in str(get_ipython()):\n",
    "    print('Running on Jupyter Notebook')\n",
    "    DEV = f'{local_drive}{local_dev}'\n",
    "    DRIVE = local_drive\n",
    "else:\n",
    "    sys.exit('Not running on CoLab or Jupyter notebook')\n",
    "print(f'Adding sys path: {DEV}')\n",
    "sys.path.append(DEV)\n",
    "HOME = f'{DEV}data/'\n",
    "\n",
    "#check environment \n",
    "\n",
    "import tensorflow\n",
    "print('Checking key environment depenndecies')\n",
    "!python --version\n",
    "print('TensorFlow', tensorflow.__version__)\n",
    "print('Keras', tensorflow.keras.__version__)\n"
   ]
  },
  {
   "cell_type": "code",
   "execution_count": 21,
   "metadata": {
    "colab": {
     "base_uri": "https://localhost:8080/"
    },
    "id": "5J1alVgtUgUf",
    "outputId": "be948d8a-4cc6-490b-eed5-e8829e39d1a4"
   },
   "outputs": [
    {
     "name": "stdout",
     "output_type": "stream",
     "text": [
      "2.3.0\n",
      "2.4.0\n",
      "0.01.12\n"
     ]
    }
   ],
   "source": [
    "# import collections\n",
    "\n",
    "import numpy as np # импортируем библиотеку для работы с массивами данных\n",
    "import tensorflow as tf\n",
    "# from tensorflow.keras.models import Model, load_model \n",
    "# from tensorflow.keras import layers\n",
    "# from tensorflow.keras.layers import Dense, Flatten, Input, Lambda, Conv2D, MaxPooling2D, Reshape, Multiply # из кераса загружаем необходимые слои для нейросети\n",
    "# from tensorflow.keras.layers import BatchNormalization\n",
    "# from tensorflow.keras.optimizers import RMSprop, Adam, SGD, RMSprop# из кераса загружаем выбранный оптимизатор\n",
    "import time                                # модуль для операций со временными характеристиками\n",
    "import matplotlib.pyplot as plt            # импортируем библиотеку для визуализации данных\n",
    "import seaborn as sns\n",
    "import matplotlib\n",
    "import pandas as pd\n",
    "import pickle as pkl\n",
    "import random\n",
    "import sys\n",
    "import os\n",
    "from datetime import datetime, timedelta\n",
    "from IPython.display import clear_output \n",
    "\n",
    "import pytz\n",
    "timezone = pytz.timezone(\"Europe/Moscow\")\n",
    "# # \"магическая\" команда python для запуска библиотеки в ноутбуке\n",
    "# %matplotlib inline\n",
    "\n",
    "# HOME = f'/content/drive/MyDrive/Python/fool_game/data/'\n",
    "# from google.colab import drive\n",
    "# drive.mount('/content/drive')\n",
    "\n",
    "from importlib import reload\n",
    "from cardgames import foolgame\n",
    "foolgame = reload(foolgame)\n",
    "print(tf.__version__)\n",
    "print(tf.keras.__version__)\n",
    "print(foolgame.__version__)"
   ]
  },
  {
   "cell_type": "markdown",
   "metadata": {
    "id": "AUNYbmtaU8Fm"
   },
   "source": [
    "### Figshow"
   ]
  },
  {
   "cell_type": "code",
   "execution_count": 22,
   "metadata": {
    "id": "D_qf7NMJwVjs"
   },
   "outputs": [],
   "source": [
    "def figshow(df):\n",
    "    fig = plt.figure(figsize=(26, 7))\n",
    "    sns.set_style(\"white\")\n",
    "    ax1 = fig.add_subplot(1, 2, 1)\n",
    "    ax1.set_axisbelow(True)\n",
    "    ax1.minorticks_on()\n",
    "    ax1.grid(which='major', linestyle='-', linewidth='0.5', color='gray')\n",
    "    ax1.grid(which='minor', linestyle=':', linewidth='0.5', color='gray')\n",
    "    # last_game = int(df[\"game\"].max())\n",
    "    # N = np.arange(0, last_game+1)\n",
    "\n",
    "    plt.plot(df[\"game_episode\"], df[\"loss\"], linestyle='--', color='blue', label=\"loss\")\n",
    "    plt.plot(df[\"game_episode\"], df[\"epsilon\"], linestyle='--', color='green', label=\"epsilon\")\n",
    "    plt.title(f\"Loss & epsilon\")\n",
    "    plt.legend()\n",
    "\n",
    "    ax2 = fig.add_subplot(1, 2, 2)\n",
    "    ax2.set_axisbelow(True)\n",
    "    ax2.minorticks_on()\n",
    "    ax2.grid(which='major', linestyle='-', linewidth='0.5', color='gray')\n",
    "    ax2.grid(which='minor', linestyle=':', linewidth='0.5', color='gray')\n",
    "    plt.plot(df[\"game_episode\"], df['mean_reward'], linestyle='-', color='red', label=\"best_mean_reward\")\n",
    "    # plt.plot(df[\"game_episode\"], df[\"time\"]/10, linestyle='--', color='green', label=\"time/10\")\n",
    "    # plt.title(f\"mean_reward & time/10\")\n",
    "    plt.title(f\"mean_reward\")\n",
    "    plt.legend()\n",
    "    plt.show()\n",
    "    pass"
   ]
  },
  {
   "cell_type": "code",
   "execution_count": 10,
   "metadata": {
    "colab": {
     "base_uri": "https://localhost:8080/"
    },
    "id": "g7uAU9CHLGaa",
    "outputId": "13ba3333-ea73-4385-9c58-af794b6089d4"
   },
   "outputs": [
    {
     "name": "stdout",
     "output_type": "stream",
     "text": [
      "Fri Apr 30 02:09:48 2021       \n",
      "+-----------------------------------------------------------------------------+\n",
      "| NVIDIA-SMI 450.119.03   Driver Version: 450.119.03   CUDA Version: 11.0     |\n",
      "|-------------------------------+----------------------+----------------------+\n",
      "| GPU  Name        Persistence-M| Bus-Id        Disp.A | Volatile Uncorr. ECC |\n",
      "| Fan  Temp  Perf  Pwr:Usage/Cap|         Memory-Usage | GPU-Util  Compute M. |\n",
      "|                               |                      |               MIG M. |\n",
      "|===============================+======================+======================|\n",
      "|   0  GeForce GTX 760     Off  | 00000000:01:00.0 N/A |                  N/A |\n",
      "| 39%   51C    P0    N/A /  N/A |    822MiB /  1998MiB |     N/A      Default |\n",
      "|                               |                      |                  N/A |\n",
      "+-------------------------------+----------------------+----------------------+\n",
      "                                                                               \n",
      "+-----------------------------------------------------------------------------+\n",
      "| Processes:                                                                  |\n",
      "|  GPU   GI   CI        PID   Type   Process name                  GPU Memory |\n",
      "|        ID   ID                                                   Usage      |\n",
      "|=============================================================================|\n",
      "|  No running processes found                                                 |\n",
      "+-----------------------------------------------------------------------------+\n"
     ]
    }
   ],
   "source": [
    "!nvidia-smi"
   ]
  },
  {
   "cell_type": "code",
   "execution_count": 23,
   "metadata": {
    "id": "nhfNKouznNx4"
   },
   "outputs": [],
   "source": [
    "games_num = 100000\n",
    "players_num = 4\n",
    "\n",
    "model = foolgame.q_model_dense(input_shape=(37, 20+players_num,), output_shape=37)\n",
    "model_target = foolgame.q_model_dense(input_shape=(37, 20+players_num,), output_shape=37)\n",
    "\n",
    "game_table = foolgame.Environment(players_num, games_num, model)"
   ]
  },
  {
   "cell_type": "code",
   "execution_count": 24,
   "metadata": {
    "id": "AGwHC9dyXoPd"
   },
   "outputs": [],
   "source": [
    "MEAN_REWARD_BOUND = 0.9           \n",
    "\n",
    "gamma = 0.99                                   \n",
    "batch_size = 32                 # at epoch = 1000\n",
    "replay_size = 10000                \n",
    "       \n",
    "sync_target_turns = 3000        # at turn_idx = 3000 \n",
    "replay_start_size = 10000      \n",
    "eps_start = 1.0\n",
    "eps_decay = .999985             #changed start from .999985\n",
    "eps_min = 0.02                  # changed from 0.02 to 0.07 and at epoch=1000 to 0.1\n",
    "epsilon_greedy_frames = 1000000.0\n",
    "buffer = game_table.replay_buffer"
   ]
  },
  {
   "cell_type": "code",
   "execution_count": 26,
   "metadata": {
    "colab": {
     "base_uri": "https://localhost:8080/"
    },
    "id": "Bx_SokJacvOx",
    "outputId": "c6450c52-334e-4c6d-fb44-5361eb7c2446"
   },
   "outputs": [
    {
     "name": "stdout",
     "output_type": "stream",
     "text": [
      "Starting from scratches. Starting game = 0\n",
      "Empty DataFrame\n",
      "Columns: [game_episode, turns, time, loss, epsilon, mean_reward]\n",
      "Index: []\n",
      "Start game episode: 0\n",
      "Turn index: 0\n",
      "Epsilon: 1.0\n",
      "Learning rate: 0.0001\n",
      "Mean reward on last game episode: 0\n",
      "_mean_ of Total rewards for last 100 games: None\n",
      "Model learning 0 games and 0:00:00\n"
     ]
    }
   ],
   "source": [
    "model_weights_save_name = 'fool_cardgame_weights'\n",
    "history_csv_name = 'fool_cardgame_hst.csv'\n",
    "exp_pkl_name = 'fool_cardgame_exp.pkl'\n",
    "cols = ['game_episode',\n",
    "        'turns',  \n",
    "        'time', \n",
    "        'loss',\n",
    "        'epsilon',\n",
    "        'mean_reward',\n",
    "       ]\n",
    "\n",
    "def get_pd_data(pdfile):\n",
    "  df_data = pd.read_csv(os.path.join(HOME, pdfile), index_col=0)\n",
    "  return df_data\n",
    "\n",
    "def add_data_to_pd(df_data, _game_episode, _turns, _time, _loss, _epsilon, _mean_reward):\n",
    "  df_data = df_data.append({'game_episode': _game_episode,\n",
    "                            'turns': _turns,\n",
    "                            'time': _time,\n",
    "                            'loss': _loss,\n",
    "                            'epsilon': _epsilon,\n",
    "                            'mean_reward': _mean_reward,\n",
    "                            }, ignore_index=True)\n",
    "  # print(self.df.to_string())\n",
    "  return df_data\n",
    "  \n",
    "def load_checkpoint(save_name):\n",
    "    pd_file_path =  os.path.join(HOME, history_csv_name)\n",
    "    if os.path.exists(pd_file_path):    \n",
    "      df = get_pd_data(pd_file_path)\n",
    "      pd_start_game= int(df.game_episode.max())\n",
    "    else:\n",
    "      pd_start_game = 0\n",
    "      df = pd.DataFrame(columns=cols)\n",
    "    start_game = 0\n",
    "    mean_reward = 0\n",
    "    dirlist = os.listdir(HOME)\n",
    "    for i in range (len(dirlist)):\n",
    "      filename = dirlist[i]\n",
    "      if save_name in filename:\n",
    "        if '_' in filename: \n",
    "          try: \n",
    "            epoch = int((filename.split('_')[-1]).split('.')[-2])\n",
    "          except ValueError:\n",
    "            epoch = 0\n",
    "          if epoch > start_game:\n",
    "            start_game = epoch\n",
    "    if pd_start_game > start_game:\n",
    "      df.drop(index = [i for i in range(start_game+1, pd_start_game+1)], axis=0, inplace=True)\n",
    "      # df.to_csv(os.path.join(HOME, history_csv_name), encoding='utf-8')\n",
    "    if start_game > 0:\n",
    "      file_path = os.path.join(HOME, f'{save_name}_{start_game}.h5')\n",
    "      model.load_weights(file_path)\n",
    "      model_target.load_weights(file_path)\n",
    "      print(f\"Loaded {file_path} save, for model & model_target. Starting training from {start_game}\")\n",
    "      # last epoch +1\n",
    "      epsilon = float(df.loc[(df[\"game_episode\"]==start_game), \"epsilon\"].item())\n",
    "      mean_reward = float(df.loc[(df[\"game_episode\"]==start_game), \"mean_reward\"].item())\n",
    "    else:\n",
    "      epsilon = 1.0\n",
    "      print(f\"Starting from scratches. Starting game = {start_game}\")\n",
    "    return df, start_game, epsilon, mean_reward\n",
    "\n",
    "df, start_game, epsilon, mean_reward = load_checkpoint(model_weights_save_name)\n",
    "\n",
    "if start_game != 0:\n",
    "  turn_idx = int(df.turns.max())\n",
    "  figshow(df)\n",
    "  game_episode = start_game\n",
    "  total_rewards = []\n",
    "  total_rewards = df.loc[(df[\"game_episode\"]<=start_game) &(df[\"game_episode\"]>=start_game-100), \"mean_reward\"].values.tolist()\n",
    "  # epsilon = 0.1\n",
    "  learning_rate = 1e-4\n",
    "  adam_hat = 1e-8\n",
    "  if game_episode > 200:\n",
    "    lr_decay = 60/game_episode\n",
    "    learning_rate = learning_rate * lr_decay\n",
    "    if learning_rate < adam_hat:\n",
    "      learning_rate = adam_hat\n",
    "else:\n",
    "  turn_idx = 0\n",
    "  mean_reward = 0\n",
    "  game_episode = -1\n",
    "  epsilon = eps_start\n",
    "  total_rewards = []\n",
    "  learning_rate = 1e-4  \n",
    "\n",
    "print(df.tail(15).to_string())\n",
    "print(f'Start game episode:', start_game)\n",
    "print('Turn index:', turn_idx)\n",
    "print('Epsilon:', epsilon)\n",
    "print('Learning rate:', learning_rate)\n",
    "print('Mean reward on last game episode:', mean_reward)\n",
    "print(f'_mean_ of Total rewards for last 100 games: {np.mean(total_rewards[-100:]) if total_rewards else None}')\n",
    "\n",
    "exp_file_path = os.path.join(HOME, f'{exp_pkl_name}')\n",
    "if start_game != 0:\n",
    "  if os.path.exists(exp_file_path):\n",
    "    buffer.load(exp_file_path)\n",
    "  else:\n",
    "    msg = f\"Warning: pickle Exp file not found, starting without\" \n",
    "    print(msg)\n",
    "\n",
    "time_sum = int(df[\"time\"].sum())\n",
    "print(f'Model learning {start_game} games and {timedelta(seconds=time_sum)}')"
   ]
  },
  {
   "cell_type": "code",
   "execution_count": 27,
   "metadata": {
    "colab": {
     "base_uri": "https://localhost:8080/",
     "height": 1000
    },
    "id": "qEoc2PWmM2mu",
    "outputId": "b4d73385-e5ee-40c8-b222-e0268094cfe8"
   },
   "outputs": [
    {
     "name": "stdout",
     "output_type": "stream",
     "text": [
      ">>>Training starts at  2021-04-30 02:20:13.188137+03:00\n",
      "game_episode: 000000000000, turn: 0000050, epsilon: 1.000, mean reward: 0.000, rewards in row 0.0000, loss: 0.0000, replay_buffer 50. Best mean reward updated 0.000, time: 0.1899 sec\n"
     ]
    },
    {
     "data": {
      "image/png": "[encoded data removed]",
      "text/plain": [
       "<Figure size 1872x504 with 2 Axes>"
      ]
     },
     "metadata": {},
     "output_type": "display_data"
    },
    {
     "name": "stdout",
     "output_type": "stream",
     "text": [
      "game_episode: 000000000010, turn: 0000552, epsilon: 1.000, mean reward: 0.000, rewards in row 1.3333, loss: 0.0000, replay_buffer 552, time: 0.2215 sec\n",
      "game_episode: 000000000020, turn: 0001046, epsilon: 1.000, mean reward: 0.000, rewards in row 2.6667, loss: 0.0000, replay_buffer 1046, time: 0.1062 sec\n",
      "game_episode: 000000000030, turn: 0001487, epsilon: 0.999, mean reward: 0.000, rewards in row 0.6667, loss: 0.0000, replay_buffer 1487, time: 0.1777 sec\n",
      "game_episode: 000000000040, turn: 0001931, epsilon: 0.999, mean reward: 0.000, rewards in row 2.0000, loss: 0.0000, replay_buffer 1931, time: 0.3492 sec\n",
      "game_episode: 000000000050, turn: 0002362, epsilon: 0.999, mean reward: 0.000, rewards in row 1.3333, loss: 0.0000, replay_buffer 2362, time: 0.4004 sec\n",
      "game_episode: 000000000060, turn: 0002822, epsilon: 0.999, mean reward: 0.000, rewards in row 2.3333, loss: 0.0000, replay_buffer 2822, time: 0.1812 sec\n",
      "game_episode: 000000000070, turn: 0003286, epsilon: 0.999, mean reward: 0.000, rewards in row 0.0000, loss: 0.0000, replay_buffer 3328, time: 0.1545 sec\n",
      "game_episode: 000000000080, turn: 0003776, epsilon: 0.999, mean reward: 0.000, rewards in row 1.6667, loss: 0.0000, replay_buffer 3818, time: 0.2535 sec\n",
      "game_episode: 000000000090, turn: 0004210, epsilon: 0.998, mean reward: 0.000, rewards in row 1.6667, loss: 0.0000, replay_buffer 4252, time: 0.2127 sec\n",
      "game_episode: 000000000100, turn: 0004614, epsilon: 0.998, mean reward: 0.000, rewards in row 1.3333, loss: 0.0000, replay_buffer 4656, time: 0.1136 sec\n",
      "game_episode: 000000000110, turn: 0005033, epsilon: 0.998, mean reward: 0.000, rewards in row 1.6667, loss: 0.0000, replay_buffer 5075, time: 0.2827 sec\n",
      "game_episode: 000000000120, turn: 0005437, epsilon: 0.998, mean reward: 0.000, rewards in row 2.3333, loss: 0.0000, replay_buffer 5479, time: 0.1537 sec\n",
      "game_episode: 000000000130, turn: 0005993, epsilon: 0.998, mean reward: 0.000, rewards in row 2.3333, loss: 0.0000, replay_buffer 6035, time: 0.1764 sec\n",
      "game_episode: 000000000140, turn: 0006425, epsilon: 0.997, mean reward: 0.000, rewards in row 2.6667, loss: 0.0000, replay_buffer 6467, time: 0.1794 sec\n",
      "game_episode: 000000000150, turn: 0006879, epsilon: 0.997, mean reward: 0.000, rewards in row 0.6667, loss: 0.0000, replay_buffer 6921, time: 0.1519 sec\n",
      "game_episode: 000000000160, turn: 0007303, epsilon: 0.997, mean reward: 0.000, rewards in row 0.6667, loss: 0.0000, replay_buffer 7345, time: 0.1198 sec\n",
      "game_episode: 000000000170, turn: 0007730, epsilon: 0.997, mean reward: 0.000, rewards in row 0.3333, loss: 0.0000, replay_buffer 7772, time: 0.1407 sec\n",
      "game_episode: 000000000180, turn: 0008178, epsilon: 0.997, mean reward: 0.000, rewards in row 0.0000, loss: 0.0000, replay_buffer 8220, time: 0.1448 sec\n",
      "game_episode: 000000000190, turn: 0008663, epsilon: 0.996, mean reward: 0.000, rewards in row 1.0000, loss: 0.0000, replay_buffer 8705, time: 0.1626 sec\n",
      "game_episode: 000000000200, turn: 0009118, epsilon: 0.996, mean reward: 0.000, rewards in row 0.6667, loss: 0.0000, replay_buffer 9160, time: 0.1840 sec\n",
      "game_episode: 000000000210, turn: 0009625, epsilon: 0.996, mean reward: 0.000, rewards in row 2.3333, loss: 0.0000, replay_buffer 9667, time: 0.1327 sec\n"
     ]
    },
    {
     "ename": "InvalidArgumentError",
     "evalue": "Incompatible shapes: [32] vs. [32,37] [Op:AddV2]",
     "output_type": "error",
     "traceback": [
      "\u001b[0;31m---------------------------------------------------------------------------\u001b[0m",
      "\u001b[0;31mInvalidArgumentError\u001b[0m                      Traceback (most recent call last)",
      "\u001b[0;32m<ipython-input-27-8a4ce8a25ecd>\u001b[0m in \u001b[0;36m<module>\u001b[0;34m\u001b[0m\n\u001b[1;32m    114\u001b[0m         \u001b[0;31m# Q value = reward + discount factor * expected future reward\u001b[0m\u001b[0;34m\u001b[0m\u001b[0;34m\u001b[0m\u001b[0;34m\u001b[0m\u001b[0m\n\u001b[1;32m    115\u001b[0m         updated_q_values = rewards + gamma * tf.reduce_max(\n\u001b[0;32m--> 116\u001b[0;31m             \u001b[0mfuture_rewards\u001b[0m\u001b[0;34m,\u001b[0m \u001b[0maxis\u001b[0m\u001b[0;34m=\u001b[0m\u001b[0;36m1\u001b[0m\u001b[0;34m\u001b[0m\u001b[0;34m\u001b[0m\u001b[0m\n\u001b[0m\u001b[1;32m    117\u001b[0m         )\n\u001b[1;32m    118\u001b[0m \u001b[0;34m\u001b[0m\u001b[0m\n",
      "\u001b[0;32m~/anaconda3/envs/terra-dev/lib/python3.7/site-packages/tensorflow/python/ops/math_ops.py\u001b[0m in \u001b[0;36mr_binary_op_wrapper\u001b[0;34m(y, x)\u001b[0m\n\u001b[1;32m   1154\u001b[0m     \u001b[0;32mwith\u001b[0m \u001b[0mops\u001b[0m\u001b[0;34m.\u001b[0m\u001b[0mname_scope\u001b[0m\u001b[0;34m(\u001b[0m\u001b[0;32mNone\u001b[0m\u001b[0;34m,\u001b[0m \u001b[0mop_name\u001b[0m\u001b[0;34m,\u001b[0m \u001b[0;34m[\u001b[0m\u001b[0mx\u001b[0m\u001b[0;34m,\u001b[0m \u001b[0my\u001b[0m\u001b[0;34m]\u001b[0m\u001b[0;34m)\u001b[0m \u001b[0;32mas\u001b[0m \u001b[0mname\u001b[0m\u001b[0;34m:\u001b[0m\u001b[0;34m\u001b[0m\u001b[0;34m\u001b[0m\u001b[0m\n\u001b[1;32m   1155\u001b[0m       \u001b[0mx\u001b[0m \u001b[0;34m=\u001b[0m \u001b[0mops\u001b[0m\u001b[0;34m.\u001b[0m\u001b[0mconvert_to_tensor\u001b[0m\u001b[0;34m(\u001b[0m\u001b[0mx\u001b[0m\u001b[0;34m,\u001b[0m \u001b[0mdtype\u001b[0m\u001b[0;34m=\u001b[0m\u001b[0my\u001b[0m\u001b[0;34m.\u001b[0m\u001b[0mdtype\u001b[0m\u001b[0;34m.\u001b[0m\u001b[0mbase_dtype\u001b[0m\u001b[0;34m,\u001b[0m \u001b[0mname\u001b[0m\u001b[0;34m=\u001b[0m\u001b[0;34m\"x\"\u001b[0m\u001b[0;34m)\u001b[0m\u001b[0;34m\u001b[0m\u001b[0;34m\u001b[0m\u001b[0m\n\u001b[0;32m-> 1156\u001b[0;31m       \u001b[0;32mreturn\u001b[0m \u001b[0mfunc\u001b[0m\u001b[0;34m(\u001b[0m\u001b[0mx\u001b[0m\u001b[0;34m,\u001b[0m \u001b[0my\u001b[0m\u001b[0;34m,\u001b[0m \u001b[0mname\u001b[0m\u001b[0;34m=\u001b[0m\u001b[0mname\u001b[0m\u001b[0;34m)\u001b[0m\u001b[0;34m\u001b[0m\u001b[0;34m\u001b[0m\u001b[0m\n\u001b[0m\u001b[1;32m   1157\u001b[0m \u001b[0;34m\u001b[0m\u001b[0m\n\u001b[1;32m   1158\u001b[0m   \u001b[0;31m# Propagate func.__doc__ to the wrappers\u001b[0m\u001b[0;34m\u001b[0m\u001b[0;34m\u001b[0m\u001b[0;34m\u001b[0m\u001b[0m\n",
      "\u001b[0;32m~/anaconda3/envs/terra-dev/lib/python3.7/site-packages/tensorflow/python/util/dispatch.py\u001b[0m in \u001b[0;36mwrapper\u001b[0;34m(*args, **kwargs)\u001b[0m\n\u001b[1;32m    199\u001b[0m     \u001b[0;34m\"\"\"Call target, and fall back on dispatchers if there is a TypeError.\"\"\"\u001b[0m\u001b[0;34m\u001b[0m\u001b[0;34m\u001b[0m\u001b[0m\n\u001b[1;32m    200\u001b[0m     \u001b[0;32mtry\u001b[0m\u001b[0;34m:\u001b[0m\u001b[0;34m\u001b[0m\u001b[0;34m\u001b[0m\u001b[0m\n\u001b[0;32m--> 201\u001b[0;31m       \u001b[0;32mreturn\u001b[0m \u001b[0mtarget\u001b[0m\u001b[0;34m(\u001b[0m\u001b[0;34m*\u001b[0m\u001b[0margs\u001b[0m\u001b[0;34m,\u001b[0m \u001b[0;34m**\u001b[0m\u001b[0mkwargs\u001b[0m\u001b[0;34m)\u001b[0m\u001b[0;34m\u001b[0m\u001b[0;34m\u001b[0m\u001b[0m\n\u001b[0m\u001b[1;32m    202\u001b[0m     \u001b[0;32mexcept\u001b[0m \u001b[0;34m(\u001b[0m\u001b[0mTypeError\u001b[0m\u001b[0;34m,\u001b[0m \u001b[0mValueError\u001b[0m\u001b[0;34m)\u001b[0m\u001b[0;34m:\u001b[0m\u001b[0;34m\u001b[0m\u001b[0;34m\u001b[0m\u001b[0m\n\u001b[1;32m    203\u001b[0m       \u001b[0;31m# Note: convert_to_eager_tensor currently raises a ValueError, not a\u001b[0m\u001b[0;34m\u001b[0m\u001b[0;34m\u001b[0m\u001b[0;34m\u001b[0m\u001b[0m\n",
      "\u001b[0;32m~/anaconda3/envs/terra-dev/lib/python3.7/site-packages/tensorflow/python/ops/math_ops.py\u001b[0m in \u001b[0;36m_add_dispatch\u001b[0;34m(x, y, name)\u001b[0m\n\u001b[1;32m   1445\u001b[0m     \u001b[0;32mreturn\u001b[0m \u001b[0mgen_math_ops\u001b[0m\u001b[0;34m.\u001b[0m\u001b[0madd\u001b[0m\u001b[0;34m(\u001b[0m\u001b[0mx\u001b[0m\u001b[0;34m,\u001b[0m \u001b[0my\u001b[0m\u001b[0;34m,\u001b[0m \u001b[0mname\u001b[0m\u001b[0;34m=\u001b[0m\u001b[0mname\u001b[0m\u001b[0;34m)\u001b[0m\u001b[0;34m\u001b[0m\u001b[0;34m\u001b[0m\u001b[0m\n\u001b[1;32m   1446\u001b[0m   \u001b[0;32melse\u001b[0m\u001b[0;34m:\u001b[0m\u001b[0;34m\u001b[0m\u001b[0;34m\u001b[0m\u001b[0m\n\u001b[0;32m-> 1447\u001b[0;31m     \u001b[0;32mreturn\u001b[0m \u001b[0mgen_math_ops\u001b[0m\u001b[0;34m.\u001b[0m\u001b[0madd_v2\u001b[0m\u001b[0;34m(\u001b[0m\u001b[0mx\u001b[0m\u001b[0;34m,\u001b[0m \u001b[0my\u001b[0m\u001b[0;34m,\u001b[0m \u001b[0mname\u001b[0m\u001b[0;34m=\u001b[0m\u001b[0mname\u001b[0m\u001b[0;34m)\u001b[0m\u001b[0;34m\u001b[0m\u001b[0;34m\u001b[0m\u001b[0m\n\u001b[0m\u001b[1;32m   1448\u001b[0m \u001b[0;34m\u001b[0m\u001b[0m\n\u001b[1;32m   1449\u001b[0m \u001b[0;34m\u001b[0m\u001b[0m\n",
      "\u001b[0;32m~/anaconda3/envs/terra-dev/lib/python3.7/site-packages/tensorflow/python/ops/gen_math_ops.py\u001b[0m in \u001b[0;36madd_v2\u001b[0;34m(x, y, name)\u001b[0m\n\u001b[1;32m    484\u001b[0m       \u001b[0;32mreturn\u001b[0m \u001b[0m_result\u001b[0m\u001b[0;34m\u001b[0m\u001b[0;34m\u001b[0m\u001b[0m\n\u001b[1;32m    485\u001b[0m     \u001b[0;32mexcept\u001b[0m \u001b[0m_core\u001b[0m\u001b[0;34m.\u001b[0m\u001b[0m_NotOkStatusException\u001b[0m \u001b[0;32mas\u001b[0m \u001b[0me\u001b[0m\u001b[0;34m:\u001b[0m\u001b[0;34m\u001b[0m\u001b[0;34m\u001b[0m\u001b[0m\n\u001b[0;32m--> 486\u001b[0;31m       \u001b[0m_ops\u001b[0m\u001b[0;34m.\u001b[0m\u001b[0mraise_from_not_ok_status\u001b[0m\u001b[0;34m(\u001b[0m\u001b[0me\u001b[0m\u001b[0;34m,\u001b[0m \u001b[0mname\u001b[0m\u001b[0;34m)\u001b[0m\u001b[0;34m\u001b[0m\u001b[0;34m\u001b[0m\u001b[0m\n\u001b[0m\u001b[1;32m    487\u001b[0m     \u001b[0;32mexcept\u001b[0m \u001b[0m_core\u001b[0m\u001b[0;34m.\u001b[0m\u001b[0m_FallbackException\u001b[0m\u001b[0;34m:\u001b[0m\u001b[0;34m\u001b[0m\u001b[0;34m\u001b[0m\u001b[0m\n\u001b[1;32m    488\u001b[0m       \u001b[0;32mpass\u001b[0m\u001b[0;34m\u001b[0m\u001b[0;34m\u001b[0m\u001b[0m\n",
      "\u001b[0;32m~/anaconda3/envs/terra-dev/lib/python3.7/site-packages/tensorflow/python/framework/ops.py\u001b[0m in \u001b[0;36mraise_from_not_ok_status\u001b[0;34m(e, name)\u001b[0m\n\u001b[1;32m   6841\u001b[0m   \u001b[0mmessage\u001b[0m \u001b[0;34m=\u001b[0m \u001b[0me\u001b[0m\u001b[0;34m.\u001b[0m\u001b[0mmessage\u001b[0m \u001b[0;34m+\u001b[0m \u001b[0;34m(\u001b[0m\u001b[0;34m\" name: \"\u001b[0m \u001b[0;34m+\u001b[0m \u001b[0mname\u001b[0m \u001b[0;32mif\u001b[0m \u001b[0mname\u001b[0m \u001b[0;32mis\u001b[0m \u001b[0;32mnot\u001b[0m \u001b[0;32mNone\u001b[0m \u001b[0;32melse\u001b[0m \u001b[0;34m\"\"\u001b[0m\u001b[0;34m)\u001b[0m\u001b[0;34m\u001b[0m\u001b[0;34m\u001b[0m\u001b[0m\n\u001b[1;32m   6842\u001b[0m   \u001b[0;31m# pylint: disable=protected-access\u001b[0m\u001b[0;34m\u001b[0m\u001b[0;34m\u001b[0m\u001b[0;34m\u001b[0m\u001b[0m\n\u001b[0;32m-> 6843\u001b[0;31m   \u001b[0msix\u001b[0m\u001b[0;34m.\u001b[0m\u001b[0mraise_from\u001b[0m\u001b[0;34m(\u001b[0m\u001b[0mcore\u001b[0m\u001b[0;34m.\u001b[0m\u001b[0m_status_to_exception\u001b[0m\u001b[0;34m(\u001b[0m\u001b[0me\u001b[0m\u001b[0;34m.\u001b[0m\u001b[0mcode\u001b[0m\u001b[0;34m,\u001b[0m \u001b[0mmessage\u001b[0m\u001b[0;34m)\u001b[0m\u001b[0;34m,\u001b[0m \u001b[0;32mNone\u001b[0m\u001b[0;34m)\u001b[0m\u001b[0;34m\u001b[0m\u001b[0;34m\u001b[0m\u001b[0m\n\u001b[0m\u001b[1;32m   6844\u001b[0m   \u001b[0;31m# pylint: enable=protected-access\u001b[0m\u001b[0;34m\u001b[0m\u001b[0;34m\u001b[0m\u001b[0;34m\u001b[0m\u001b[0m\n\u001b[1;32m   6845\u001b[0m \u001b[0;34m\u001b[0m\u001b[0m\n",
      "\u001b[0;32m~/anaconda3/envs/terra-dev/lib/python3.7/site-packages/six.py\u001b[0m in \u001b[0;36mraise_from\u001b[0;34m(value, from_value)\u001b[0m\n",
      "\u001b[0;31mInvalidArgumentError\u001b[0m: Incompatible shapes: [32] vs. [32,37] [Op:AddV2]"
     ]
    }
   ],
   "source": [
    "# optimizer = keras.optimizers.Adam(learning_rate=0.00025) # added back clipnorm (was deleted)\n",
    "# loss_funct = tf.keras.losses.Huber(delta=1.2)   # changet at epoch 1100 from 1.3\n",
    "optimizer = tf.keras.optimizers.Adam(learning_rate=learning_rate, clipnorm=1.0)\n",
    "# optimizer = keras.optimizers.SGD(learning_rate=learning_rate,\n",
    "#                                   momentum=0.9,\n",
    "#                                   nesterov=True) # added back clipnorm (was deleted\n",
    "# optimizer = Adam(learning_rate=learning_rate)\n",
    "# loss_funct = tf.keras.losses.Huber(delta=1.5)   # changet at epoch 1100 from 1.3\n",
    "\n",
    "# optimizer = Adam(lr=learning_rate)\n",
    "loss_funct = tf.keras.losses.Huber()\n",
    "\n",
    "model.compile(optimizer = optimizer,\n",
    "              loss = loss_funct,\n",
    "              metrics=['mean_square_error'])\n",
    "\n",
    "model_target.compile(optimizer = optimizer,\n",
    "                    loss = loss_funct,\n",
    "                    metrics=['mean_square_error'])\n",
    "\n",
    "# agent = Agent(env, buffer)\n",
    "\n",
    "best_mean_reward = None\n",
    "num_actions = 37\n",
    "loss_numpy = 0\n",
    "loss = 0\n",
    "rewards_in_row = []\n",
    "total_games_count = 0\n",
    "start_datetime = datetime.now(timezone)\n",
    "print(\">>>Training starts at \", start_datetime)\n",
    "start_time = time.time()\n",
    "ai_repeat = 'new'\n",
    "while True:\n",
    "        epsilon = max(epsilon*eps_decay, eps_min)\n",
    "#         game_table.verbose = True\n",
    "        if ai_repeat == 'new':\n",
    "            game_table.first_game = True\n",
    "            game_table.reset()\n",
    "        reward, episode_buffer = game_table.train_episode_AI(start_type=ai_repeat, epsilon=epsilon)\n",
    "        rewards_in_row.append(reward)\n",
    "        if len(rewards_in_row) > 12:\n",
    "          del rewards_in_row[:1]\n",
    "      \n",
    "        if reward != 0:\n",
    "            if reward != 1.0:\n",
    "              ai_repeat = 'same'   \n",
    "            else:\n",
    "              ai_repeat = 'new'\n",
    "        else:\n",
    "            ai_repeat = 'same'\n",
    "\n",
    "            buffer.extend(episode_buffer)\n",
    "            game_episode += 1\n",
    "            total_games_count +=1\n",
    "            turn_idx += game_table.game_turns\n",
    "            total_rewards.append(reward)\n",
    "            mean_reward = np.mean(total_rewards[-100:])\n",
    "            if len(total_rewards) > 100:\n",
    "              del total_rewards[:1]\n",
    "            msg = f\"\\rgame_episode: {game_episode:012d}, turn: {turn_idx:07d}, epsilon: {epsilon:.3f}, \" \\\n",
    "                  f\"mean reward: {mean_reward:.3f}, rewards in row {np.sum(rewards_in_row[-12:]):.4f}, loss: {loss_numpy:.4f}, \" \\\n",
    "                  f\"replay_buffer {len(buffer)}\"\n",
    "         \n",
    "            if best_mean_reward is None or best_mean_reward < mean_reward:\n",
    "                best_mean_reward = mean_reward\n",
    "                if best_mean_reward is not None:\n",
    "                    msg = f'{msg}. Best mean reward updated {best_mean_reward:.3f}'\n",
    "\n",
    "            if mean_reward > MEAN_REWARD_BOUND and len(buffer) > replay_start_size:\n",
    "                end_time = time.time()\n",
    "                game_time = end_time - start_time \n",
    "                start_time  = time.time()\n",
    "\n",
    "\n",
    "                print(f'{msg}, time: {game_time:.4f} sec')    \n",
    "                print(\"Solved in %d turns!\" % turn_idx)\n",
    "                if tf.is_tensor(loss):\n",
    "                   loss_numpy = tf.keras.backend.get_value(loss)\n",
    "                df = add_data_to_pd(df, game_episode, turn_idx, game_time, loss_numpy, epsilon, mean_reward)\n",
    "                df.to_csv(os.path.join(HOME, history_csv_name), encoding='utf-8')\n",
    "                break\n",
    "            \n",
    "            if tf.is_tensor(loss):\n",
    "                loss_numpy = tf.keras.backend.get_value(loss)    \n",
    "\n",
    "            end_time = time.time()\n",
    "            game_time = end_time - start_time \n",
    "            start_time  = time.time()\n",
    "            if game_episode % 10 == 0:\n",
    "              print(f'{msg}, time: {game_time:.4f} sec')\n",
    "            df = add_data_to_pd(df, game_episode, turn_idx, game_time, loss_numpy, epsilon, mean_reward)\n",
    "            if (game_episode % 200 == 0) and (game_episode != 0):\n",
    "                df.to_csv(os.path.join(HOME, history_csv_name), encoding='utf-8')\n",
    "            if (game_episode % 500 == 0) and (game_episode != 0) and (turn_idx >= replay_start_size):\n",
    "                print('Saving weights...')\n",
    "                model.save_weights(os.path.join(HOME, f'{model_weights_save_name}_{game_episode:002d}.h5'))\n",
    "                buffer.save(exp_file_path)\n",
    "            if game_episode % 400 == 0:\n",
    "                figshow(df)\n",
    "            elif (game_episode % 1500 == 0) and (game_episode != 0):  \n",
    "                clear_output()\n",
    "                print(df.tail(50).to_string())\n",
    "                figshow(df)\n",
    "\n",
    "        if len(buffer) < replay_start_size:\n",
    "            continue\n",
    "\n",
    "        batch = buffer.sample(batch_size)\n",
    "        states, actions, rewards, dones, next_states = batch\n",
    "\n",
    "        # Build the updated Q-values for the sampled future states\n",
    "        # Use the target model for stability\n",
    "        future_rewards = model_target.predict(next_states)\n",
    "        # Q value = reward + discount factor * expected future reward\n",
    "        updated_q_values = rewards + gamma * tf.reduce_max(\n",
    "            future_rewards, axis=1\n",
    "        )\n",
    "\n",
    "        # If final turn set the last value to -1\n",
    "        updated_q_values = updated_q_values * (1 - dones) - dones\n",
    "\n",
    "        # Create a mask so we only calculate loss on the updated Q-values\n",
    "        masks = tf.one_hot(actions, num_actions)\n",
    "\n",
    "        with tf.GradientTape() as tape:\n",
    "            # Train the model on the states and updated Q-values\n",
    "            q_values = model(states)\n",
    "\n",
    "            # Apply the masks to the Q-values to get the Q-value for action taken\n",
    "            q_action = tf.reduce_sum(tf.multiply(q_values, masks), axis=1)\n",
    "            # Calculate loss between new Q-value and old Q-value\n",
    "            loss = loss_funct(updated_q_values, q_action)\n",
    "\n",
    "        # Backpropagation\n",
    "        grads = tape.gradient(loss, model.trainable_variables)\n",
    "        optimizer.apply_gradients(zip(grads, model.trainable_variables))\n",
    "\n",
    "        if turn_idx % sync_target_turns == 0:\n",
    "            # update the the target network with new weights\n",
    "            model_target.set_weights(model.get_weights())\n",
    "\n",
    "print('Saving weights...')\n",
    "model.save_weights(os.path.join(HOME, f'{model_weights_save_name}_{game_episode:002d}.h5'))\n",
    "buffer.save(exp_file_path)\n",
    "figshow(df)\n",
    "\n",
    "end_datetime = datetime.now(timezone)\n",
    "print(\">>>Training ends at \", end_datetime)\n",
    "train_time = start_datetime-end_datetime\n",
    "print(f'Model trained:', timedelta(days=train_time))"
   ]
  },
  {
   "cell_type": "markdown",
   "metadata": {
    "id": "AajzftiKybYf"
   },
   "source": [
    "## Сыграем эпизод обученной моделью и воспроизведем видео"
   ]
  },
  {
   "cell_type": "code",
   "execution_count": null,
   "metadata": {
    "colab": {
     "base_uri": "https://localhost:8080/"
    },
    "id": "Becz5nbCMAPI",
    "outputId": "571b05aa-7f44-418d-955e-7f82b683ba33"
   },
   "outputs": [],
   "source": [
    "from datetime import datetime, timedelta\n",
    "from IPython.display import clear_output \n",
    "\n",
    "num_actions = 4\n",
    "model_weights_save_name = 'q_deep_model_weights'\n",
    "optimizer = Adam(lr=0.0001)\n",
    "loss_funct = tf.keras.losses.Huber()\n",
    "\n",
    "model = create_q_model(num_actions)\n",
    "\n",
    "model.compile(optimizer = optimizer,\n",
    "              loss = loss_funct,\n",
    "              metrics=['mean_absolute_error'])\n",
    " \n",
    "def load_checkpoint(model, save_name):\n",
    "    start_game = 0\n",
    "    dirlist = os.listdir(HOME)\n",
    "    for i in range (len(dirlist)):\n",
    "      filename = dirlist[i]\n",
    "      if save_name in filename:\n",
    "        if '_' in filename: \n",
    "          try: \n",
    "            epoch = int((filename.split('_')[-1]).split('.')[-2])\n",
    "          except ValueError:\n",
    "            epoch = 0\n",
    "          if epoch > start_game:\n",
    "            start_game = epoch\n",
    "\n",
    "    if start_game > 0:\n",
    "      file_path = os.path.join(HOME, f'{save_name}_{start_game}.h5')\n",
    "      \n",
    "      model.load_weights(file_path)\n",
    "      print(f\"Loaded {file_path} save. Last game {start_game}\")\n",
    "      # last epoch +1\n",
    "    else:\n",
    "      print(f\"Weights not found!\")\n",
    "    return model, start_game\n",
    "\n",
    "model, start_game = load_checkpoint(model, model_weights_save_name)"
   ]
  },
  {
   "cell_type": "code",
   "execution_count": null,
   "metadata": {
    "colab": {
     "base_uri": "https://localhost:8080/"
    },
    "id": "uchGOlfyyXwl",
    "outputId": "2814f3e4-05d0-4e17-9ed1-d35373b96d49"
   },
   "outputs": [
    {
     "data": {
      "text/plain": [
       "<pyvirtualdisplay.display.Display at 0x7f402d1cd208>"
      ]
     },
     "execution_count": 21,
     "metadata": {
      "tags": []
     },
     "output_type": "execute_result"
    }
   ],
   "source": [
    "###########################\n",
    "# Импорт библиотек для записи и воспроизведения видео\n",
    "###########################\n",
    "!pip install pyvirtualdisplay > /dev/null 2>&1 \n",
    "# Устанавливаем виртуальный дисплей pyvirtualdisplay; \"/dev/null 2>&1\" уберёт длинный вывод в строке output\n",
    "!apt-get install -y xvfb python-opengl ffmpeg > /dev/null 2>&1 # создает вирт.дисплей в памяти(нужен для работы дисплея в ноутбуке)\n",
    "# \"apt-get...\" - установка пакета программного обеспечения\n",
    "# \"...-y...\" автоматический \"yes\" на вопрос \"вы действительно хотите это установить?\" \n",
    "# \"...xvfb...\" - бэкенд для pyvirtualdisplay - сервер, который выполняет все графические операции в памяти без вывода на экран\n",
    "# \"...python-opengl...\" - поддержка графики с помощью графической библиотеки\n",
    "# \"...ffmpeg\" - пакеты для обработки/конвертирования видеофайла из одного формата в другой\n",
    " \n",
    "# from gym.wrappers import Monitor # класс Monitor из пакета функций-обёрток в gym активирует видеозапись игры\n",
    "import glob   # модуль возвращает список путей к видео по шаблону (для удобства поиска/воспроизведения текущего видео)\n",
    "import base64 # библиотека поможет нам закодировать видео в 64-разрядный код, и без повреждений/изменений открыть его в ноутбуке через HTML\n",
    " \n",
    "from IPython.display import HTML              # загружаем модуль чтобы обратиться к HTML для открытия закодированного видео \n",
    "from IPython import display as ipythondisplay # активирует дисплей для воспроизведения видео в интерфейсе ноутбука\n",
    "from pyvirtualdisplay import Display          # модуль для активации виртуального дисплея\n",
    "display = Display(visible=0, size=(1400, 900))# запустим невидимый виртуальный дисплей\n",
    "display.start()"
   ]
  },
  {
   "cell_type": "code",
   "execution_count": null,
   "metadata": {
    "id": "BSA9O3aCynx9"
   },
   "outputs": [],
   "source": [
    "###########################\n",
    "# Задаем функции записи и воспроизведения видео\n",
    "###########################\n",
    "def wrapEnv(env):                           # зададим функцию-обёртку над средой\n",
    "  env = gym.wrappers.Monitor(env, './video', force=True) # класс Monitor будет записывать игру в видеофайл\n",
    "  return env                                # теперь вызов среды через функцию wrapEnv будет запускать видеозапись\n",
    " \n",
    "def showVideo():                            # функция для воспроизведения видео в ноутбуке\n",
    "  mp4list = glob.glob('video/*.mp4')        # возвращает список путей к видео по этому шаблону\n",
    "  if len(mp4list) > 0:                      # если по этому пути нашелся хотя бы один файл\n",
    "    mp4 = mp4list[0]                        # то берём самый свежий файл\n",
    "    video = open(mp4, 'r+b').read()         # открываем в режиме чтения/записи бинарного файла\n",
    "    encoded = base64.b64encode(video)       # кодируем видео в 64-разрядный код \n",
    "    ipythondisplay.display(HTML(data='''<video alt=\"test\" autoplay\n",
    "                loop controls style=\"height: 400px;\">\n",
    "                <source src=\"data:video/mp4;base64,{0}\" type=\"video/mp4\" />\n",
    "             </video>'''.format(encoded.decode('ascii'))))\n",
    "    # Декодируем ascii формат в видео mp4 - \"format(encoded.decode('ascii'))))\"\n",
    "    # для воспроизведения на разных браузерах - \"<source src=\"data:video/mp4\"\n",
    "    # задаём высоту экрана 400px - \"height: 400px;\"\n",
    "    # активируем элементы управления в видео(типа кнопки паузы и т.п) - \"controls\"\n",
    "    # включаем автоповтор после окончания воспроизведения - \"loop\"\n",
    "    # видео автоматически воспроизведется по готовности - \"autoplay\"\n",
    "    # текстовая альтернатива описывающая объект в случае невозможности отображения - \"alt=\"test\"\"\n",
    "    \n",
    "  else:                           # если путь не нашелся \n",
    "    print(\"Could not find video\") # то выведем на печать, что не смог найти видео"
   ]
  },
  {
   "cell_type": "code",
   "execution_count": null,
   "metadata": {
    "id": "N4q1cWKjtutp"
   },
   "outputs": [],
   "source": [
    "DEFAULT_ENV_NAME ='Pong-v0'\n",
    "def play_episode(model): # подаем на вход функции модель нейросети\n",
    "    FPS = 25\n",
    "    env = make_env(DEFAULT_ENV_NAME)\n",
    "    env = wrapEnv(env)              # создаем среду в режиме записи\n",
    "    \n",
    "    done = False                       # игровой эпизод не завершён\n",
    "    # observation = env.reset()          # задаем начальное состояние среды, которое наблюдает агент\n",
    "    # newObservation = observation       # задали новое состояние которое наблюдает агент\n",
    "    state = env.reset()\n",
    "    total_reward = 0.0\n",
    "    while done == False:               # пока игровой эпизод не завершён\n",
    "        start_ts = time.time()\n",
    "        env.render() \n",
    "        state_a = np.array(state, copy=False)\n",
    "        state_tensor = tf.convert_to_tensor(state_a)\n",
    "        state_tensor = tf.expand_dims(state_tensor, 0)\n",
    "        action_probs = model.predict(state_tensor)\n",
    "        # Take best action\n",
    "        action = tf.argmax(action_probs[0]).numpy()\n",
    "\n",
    "        state, reward, done, _ = env.step(action)\n",
    "        total_reward += reward\n",
    "\n",
    "        if done:\n",
    "            break\n",
    "        delta = 1/FPS - (time.time() - start_ts)\n",
    "        if delta > 0:\n",
    "            time.sleep(delta)\n",
    "        # env.render()                   # запускаем воспроизведение среды\n",
    "    env.close() # закрываем игровую среду после окончания игры\n",
    "    print(f'Total reward: {total_reward:.2f}')\n",
    "    showVideo() # показать видео игры"
   ]
  },
  {
   "cell_type": "code",
   "execution_count": null,
   "metadata": {
    "colab": {
     "base_uri": "https://localhost:8080/",
     "height": 438
    },
    "id": "9xZOI-DXM0Lf",
    "outputId": "a453ec56-aff6-450c-8b40-c170af9efece"
   },
   "outputs": [
    {
     "name": "stdout",
     "output_type": "stream",
     "text": [
      "Total reward: 17.00\n"
     ]
    },
    {
     "data": {
      "text/html": [
       "<video alt=\"test\" autoplay\n",
       "                loop controls style=\"height: 400px;\">\n",
       "                <source src=\"data:video/mp4;base64,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\" type=\"video/mp4\" />\n",
       "             </video>"
      ],
      "text/plain": [
       "<IPython.core.display.HTML object>"
      ]
     },
     "metadata": {
      "tags": []
     },
     "output_type": "display_data"
    }
   ],
   "source": [
    "# Взглянем как сыграет сетка, обученная на 1910 тренировках\n",
    "# model.load_weights(os.path.join(HOME, f'{model_weights_save_name}_1140.h5')) # подгружаем модель из сохранённых\n",
    "play_episode(model)                     # запускаем игровой эпизод"
   ]
  }
 ],
 "metadata": {
  "accelerator": "GPU",
  "colab": {
   "collapsed_sections": [],
   "include_colab_link": true,
   "machine_shape": "hm",
   "name": "fool-game and q-deep learning.ipynb",
   "provenance": []
  },
  "kernelspec": {
   "display_name": "Python 3",
   "language": "python",
   "name": "python3"
  },
  "language_info": {
   "codemirror_mode": {
    "name": "ipython",
    "version": 3
   },
   "file_extension": ".py",
   "mimetype": "text/x-python",
   "name": "python",
   "nbconvert_exporter": "python",
   "pygments_lexer": "ipython3",
   "version": "3.7.7"
  },
  "varInspector": {
   "cols": {
    "lenName": 16,
    "lenType": 16,
    "lenVar": 40
   },
   "kernels_config": {
    "python": {
     "delete_cmd_postfix": "",
     "delete_cmd_prefix": "del ",
     "library": "var_list.py",
     "varRefreshCmd": "print(var_dic_list())"
    },
    "r": {
     "delete_cmd_postfix": ") ",
     "delete_cmd_prefix": "rm(",
     "library": "var_list.r",
     "varRefreshCmd": "cat(var_dic_list()) "
    }
   },
   "types_to_exclude": [
    "module",
    "function",
    "builtin_function_or_method",
    "instance",
    "_Feature"
   ],
   "window_display": false
  }
 },
 "nbformat": 4,
 "nbformat_minor": 1
}
